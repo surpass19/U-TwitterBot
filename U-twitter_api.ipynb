{
 "cells": [
  {
   "cell_type": "markdown",
   "metadata": {
    "colab_type": "text",
    "id": "V-8DWi_E5SIN"
   },
   "source": [
    "# Twitter APIの使用\n",
    "PythonのライブラリTweepyを使って、タイムラインへの投稿およびツイートの取得を行います。"
   ]
  },
  {
   "cell_type": "markdown",
   "metadata": {
    "colab_type": "text",
    "id": "2yR970ft5_0N"
   },
   "source": [
    "##  Tweepyを確認"
   ]
  },
  {
   "cell_type": "markdown",
   "metadata": {
    "colab_type": "text",
    "id": "kAYcGCpVeRIW"
   },
   "source": [
    "## APIのkey"
   ]
  },
  {
   "cell_type": "markdown",
   "metadata": {},
   "source": [
    "Twitter Developer PlatformからAPI Key & SecretおよびAccess Token & Secretを取得し、以下のセルの変数に設定します。\n",
    "```\n",
    "api_key =\"API key\"\n",
    "api_key_secret =\"API key secret\"\n",
    "access_token=\"Access token\"\n",
    "access_token_secret =\"Access token secret\"\n",
    "``` "
   ]
  },
  {
   "cell_type": "code",
   "execution_count": 20,
   "metadata": {},
   "outputs": [],
   "source": [
    "import json\n",
    "json_open = open('../sercret.json', 'r')\n",
    "json_load = json.load(json_open)"
   ]
  },
  {
   "cell_type": "code",
   "execution_count": 21,
   "metadata": {
    "colab": {},
    "colab_type": "code",
    "id": "YU2eD2eEeVl2",
    "tags": []
   },
   "outputs": [],
   "source": [
    "api_key = json_load[\"CK\"]\n",
    "api_key_secret = json_load[\"CS\"]\n",
    "access_token= json_load[\"AT\"]\n",
    "access_token_secret = json_load[\"AS\"]"
   ]
  },
  {
   "cell_type": "markdown",
   "metadata": {
    "colab_type": "text",
    "id": "Wi6S4e5gkXAA"
   },
   "source": [
    "## APIの設定\n",
    "Tweepyを利用し、OAuth認証にアクセストークンを設定します。  \n",
    "その上で、Twitterとやり取りするためのAPIを設定します。"
   ]
  },
  {
   "cell_type": "code",
   "execution_count": 16,
   "metadata": {
    "colab": {},
    "colab_type": "code",
    "id": "gpm1fb6nkV5_"
   },
   "outputs": [],
   "source": [
    "import tweepy\n",
    "\n",
    "auth = tweepy.OAuthHandler(api_key, api_key_secret)\n",
    "auth.set_access_token(access_token, access_token_secret)\n",
    "api = tweepy.API(auth)"
   ]
  },
  {
   "cell_type": "markdown",
   "metadata": {
    "colab_type": "text",
    "id": "1FgYM8gD9mMi"
   },
   "source": [
    "## タイムラインへの投稿\n",
    "`update_status()`によりタイムラインに投稿します。  \n",
    "http://docs.tweepy.org/en/latest/api.html#API.update_status  \n",
    "短期間に同一の内容を投稿するとブロックされるので注意しましょう。\n",
    "\n"
   ]
  },
  {
   "cell_type": "code",
   "execution_count": null,
   "metadata": {
    "colab": {},
    "colab_type": "code",
    "id": "HSwbQoBZ0xYL",
    "tags": []
   },
   "outputs": [],
   "source": [
    "print(\"文章を入力してください。\")\n",
    "text = input()  # ユーザーの入力を取得\n",
    "api.update_status(text)"
   ]
  },
  {
   "cell_type": "markdown",
   "metadata": {
    "colab_type": "text",
    "id": "ITNwljhs96mY"
   },
   "source": [
    "## Tweetの取得\n",
    "`user_timeline()`によりタイムラインのツイートを取得します。  \n",
    "https://kurozumi.github.io/tweepy/api.html#API.user_timeline"
   ]
  },
  {
   "cell_type": "code",
   "execution_count": 19,
   "metadata": {
    "colab": {},
    "colab_type": "code",
    "id": "EhQbqjYo-BBQ"
   },
   "outputs": [
    {
     "name": "stdout",
     "output_type": "stream",
     "text": [
      "id:  1360431756910993413\n",
      "user:  live_ai_exp\n",
      "date:  2021-02-13 03:33:01\n",
      "text:  開発の下請け構造改善がトレンドです。がですね\n",
      "東京4Rが流行ってます。ですね\n",
      "fav:  0\n",
      "ret:  0\n",
      "****************************************************************************************************\n",
      "id:  1360431754390175745\n",
      "user:  live_ai_exp\n",
      "date:  2021-02-13 03:33:00\n",
      "text:  @yuky_az はですね\n",
      "fav:  0\n",
      "ret:  0\n",
      "****************************************************************************************************\n",
      "id:  1360431753157042176\n",
      "user:  live_ai_exp\n",
      "date:  2021-02-13 03:33:00\n",
      "text:  @yuky_az 最近日はいいですね\n",
      "fav:  0\n",
      "ret:  0\n",
      "****************************************************************************************************\n"
     ]
    }
   ],
   "source": [
    "user_id = \"live_ai_exp\"\n",
    "tweets = api.user_timeline(user_id, count=3)\n",
    "for tweet in tweets:\n",
    "    print(\"id: \", tweet.id)\n",
    "    print(\"user: \", tweet.user.screen_name)\n",
    "    print(\"date: \", tweet.created_at)\n",
    "    print(\"text: \", tweet.text)\n",
    "    print(\"fav: \", tweet.favorite_count)\n",
    "    print(\"ret: \", tweet.retweet_count)\n",
    "#     print(\"-----------------------------------------------\")\n",
    "    print(\"*\"*100)"
   ]
  },
  {
   "cell_type": "code",
   "execution_count": null,
   "metadata": {},
   "outputs": [],
   "source": []
  }
 ],
 "metadata": {
  "colab": {
   "authorship_tag": "ABX9TyP9F67iscwFydaR456iaYHI",
   "collapsed_sections": [],
   "include_colab_link": true,
   "name": "twitter_api.ipynb",
   "provenance": []
  },
  "kernelspec": {
   "display_name": "Python 3 (ipykernel)",
   "language": "python",
   "name": "python3"
  },
  "language_info": {
   "codemirror_mode": {
    "name": "ipython",
    "version": 3
   },
   "file_extension": ".py",
   "mimetype": "text/x-python",
   "name": "python",
   "nbconvert_exporter": "python",
   "pygments_lexer": "ipython3",
   "version": "3.9.5"
  }
 },
 "nbformat": 4,
 "nbformat_minor": 4
}
